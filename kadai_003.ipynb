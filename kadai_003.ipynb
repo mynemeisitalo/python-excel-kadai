{
  "nbformat": 4,
  "nbformat_minor": 0,
  "metadata": {
    "colab": {
      "provenance": [],
      "authorship_tag": "ABX9TyMRpSCpSt0bT+l2wL8n4STe",
      "include_colab_link": true
    },
    "kernelspec": {
      "name": "python3",
      "display_name": "Python 3"
    },
    "language_info": {
      "name": "python"
    }
  },
  "cells": [
    {
      "cell_type": "markdown",
      "metadata": {
        "id": "view-in-github",
        "colab_type": "text"
      },
      "source": [
        "<a href=\"https://colab.research.google.com/github/mynemeisitalo/python-excel-kadai/blob/main/kadai_003.ipynb\" target=\"_parent\"><img src=\"https://colab.research.google.com/assets/colab-badge.svg\" alt=\"Open In Colab\"/></a>"
      ]
    },
    {
      "cell_type": "code",
      "execution_count": 27,
      "metadata": {
        "id": "UIR3H9YRg7zh"
      },
      "outputs": [],
      "source": [
        "import openpyxl\n",
        "import pandas as pd\n",
        "from openpyxl.styles import PatternFill\n",
        "\n",
        "writer = pd.ExcelWriter('売上集計表.xlsx')\n",
        "\n",
        "file_list = ['2022_年間売上表.xlsx', '2023_年間売上表.xlsx']\n",
        "\n",
        "df = pd.DataFrame()\n",
        "\n",
        "for file_name in file_list:\n",
        "    temp_df = pd.read_excel(file_name)\n",
        "    if '商品' not in temp_df.columns:\n",
        "        temp_df.columns = ['商品', '売上年', '金額（千円）']\n",
        "    df = pd.concat([df, temp_df], ignore_index=True)\n",
        "\n",
        "grouped = df.groupby(['商品', '売上年']).agg({'金額（千円）': 'sum'}).reset_index()\n",
        "\n",
        "grouped = grouped[[ '商品', '売上年', '金額（千円）']]\n",
        "\n",
        "filename = '売上集計表.xlsx'\n",
        "grouped.to_excel(filename, index=False, sheet_name='集計')\n",
        "\n",
        "wb = openpyxl.load_workbook(filename)\n",
        "ws = wb['集計']\n",
        "\n",
        "# ヘッダーのセルスタイルを設定\n",
        "header_fill = PatternFill(start_color='F2F2F2', end_color='F2F2F2', fill_type='solid')\n",
        "for cell in ws[1]:\n",
        "    cell.fill = header_fill\n",
        "\n",
        "# ファイルを保存\n",
        "wb.save(filename)\n"
      ]
    }
  ]
}